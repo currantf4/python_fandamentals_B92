{
 "cells": [
  {
   "cell_type": "code",
   "execution_count": 2,
   "id": "7b938147-eef9-410e-ae0c-c431b85f88b9",
   "metadata": {},
   "outputs": [
    {
     "name": "stdout",
     "output_type": "stream",
     "text": [
      "Hello all welcom to the python programing world !!\n"
     ]
    }
   ],
   "source": [
    "print(\"Hello all welcom to the python programing world !!\")"
   ]
  },
  {
   "cell_type": "code",
   "execution_count": null,
   "id": "39883d9d-9ec6-47e6-a1fd-70ae8d12029a",
   "metadata": {},
   "outputs": [],
   "source": []
  }
 ],
 "metadata": {
  "kernelspec": {
   "display_name": "Python [conda env:base] *",
   "language": "python",
   "name": "conda-base-py"
  },
  "language_info": {
   "codemirror_mode": {
    "name": "ipython",
    "version": 3
   },
   "file_extension": ".py",
   "mimetype": "text/x-python",
   "name": "python",
   "nbconvert_exporter": "python",
   "pygments_lexer": "ipython3",
   "version": "3.12.7"
  }
 },
 "nbformat": 4,
 "nbformat_minor": 5
}
