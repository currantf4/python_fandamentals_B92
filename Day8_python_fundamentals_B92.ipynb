{
 "cells": [
  {
   "cell_type": "code",
   "execution_count": null,
   "id": "e4f6125d-d078-45a8-a703-3e899241ab6d",
   "metadata": {},
   "outputs": [],
   "source": [
    "introducttion to python functions :"
   ]
  },
  {
   "cell_type": "code",
   "execution_count": 1,
   "id": "364f250d-18a5-44da-a86b-bf1bc84b5870",
   "metadata": {},
   "outputs": [],
   "source": [
    "# req : to define a function ===> def"
   ]
  },
  {
   "cell_type": "code",
   "execution_count": 7,
   "id": "58152fa0-7f66-4f41-a70d-2b87ed0f485a",
   "metadata": {},
   "outputs": [],
   "source": [
    "# defining the function\n",
    "\n",
    "def greet_user() : # function name\n",
    "    \"\"\"display a simple greeting message\"\"\" # doc string ---> commenting inside the function\n",
    "    print(\"Hello\")"
   ]
  },
  {
   "cell_type": "code",
   "execution_count": 9,
   "id": "674d493b-bc2d-4e2f-a309-0cca9a02c377",
   "metadata": {},
   "outputs": [
    {
     "name": "stdout",
     "output_type": "stream",
     "text": [
      "Hello\n"
     ]
    }
   ],
   "source": [
    "greet_user() # function call"
   ]
  },
  {
   "cell_type": "code",
   "execution_count": 11,
   "id": "b0b9444d-4dad-4bfa-a8d1-fabaff0ea790",
   "metadata": {},
   "outputs": [
    {
     "name": "stdout",
     "output_type": "stream",
     "text": [
      "Hello\n"
     ]
    }
   ],
   "source": [
    "greet_user()"
   ]
  },
  {
   "cell_type": "code",
   "execution_count": 13,
   "id": "2c735fc3-a586-4f94-bf3c-5afc5bf9c8df",
   "metadata": {},
   "outputs": [
    {
     "name": "stdout",
     "output_type": "stream",
     "text": [
      "Hello\n"
     ]
    }
   ],
   "source": [
    "greet_user()"
   ]
  },
  {
   "cell_type": "code",
   "execution_count": 17,
   "id": "fb9bfb19-9207-46e8-9d95-2ee772dd9ce0",
   "metadata": {},
   "outputs": [],
   "source": [
    "# understanding the concepts of  paramaters and arguments."
   ]
  },
  {
   "cell_type": "code",
   "execution_count": 31,
   "id": "6b66e52a-0b75-4013-9e12-0cbb77c78a81",
   "metadata": {},
   "outputs": [],
   "source": [
    "# passing information to the function:"
   ]
  },
  {
   "cell_type": "code",
   "execution_count": 35,
   "id": "da693e4b-5e58-4ae9-b454-772bda2ca95e",
   "metadata": {},
   "outputs": [],
   "source": [
    "def greet_user(username) : # function name # parameter\n",
    "    \"\"\"display a simple greeting message\"\"\" # doc string ---> commenting inside the function\n",
    "    print(f\"Hello, {username.title()}\")"
   ]
  },
  {
   "cell_type": "code",
   "execution_count": 37,
   "id": "29ef6dec-6b17-4a65-a30d-ee129554fd1d",
   "metadata": {},
   "outputs": [
    {
     "name": "stdout",
     "output_type": "stream",
     "text": [
      "Hello, Ravi\n"
     ]
    }
   ],
   "source": [
    "greet_user('ravi') # arguments passing  # params and argss"
   ]
  },
  {
   "cell_type": "code",
   "execution_count": 41,
   "id": "4cfd6218-a7b9-47b4-ae84-1c27680343f2",
   "metadata": {},
   "outputs": [
    {
     "name": "stdout",
     "output_type": "stream",
     "text": [
      "Hello, Kumar\n"
     ]
    }
   ],
   "source": [
    "greet_user('kumar')"
   ]
  },
  {
   "cell_type": "code",
   "execution_count": 43,
   "id": "af9bc8ff-0de0-4b7d-b10c-914d71630a7c",
   "metadata": {},
   "outputs": [
    {
     "name": "stdout",
     "output_type": "stream",
     "text": [
      "Hello, Ayesha\n"
     ]
    }
   ],
   "source": [
    "greet_user('ayesha')"
   ]
  },
  {
   "cell_type": "code",
   "execution_count": null,
   "id": "68abf69a-4030-41db-be9f-94810f15c10d",
   "metadata": {},
   "outputs": [],
   "source": [
    "types of arguments :\n",
    "\n",
    "    1. positional arguments\n",
    "    2. keywords arguments\n",
    "    3. specilative arguments"
   ]
  },
  {
   "cell_type": "code",
   "execution_count": null,
   "id": "0c0a5ca8-a3bc-4555-8091-746ca547fe4c",
   "metadata": {},
   "outputs": [],
   "source": [
    "# req : i wanr to creat a function whih will be capturing the details of the pet animals\n",
    "\n",
    "name and tpe of the animals."
   ]
  },
  {
   "cell_type": "code",
   "execution_count": 75,
   "id": "4a8c8aae-1334-4f5d-8752-19669b260626",
   "metadata": {},
   "outputs": [],
   "source": [
    "def describe_pet(animal_type,pet_name):\n",
    "    \"\"\"display information about the pet\"\"\"\n",
    "    print(f\"\\nI have a {animal_type}\")\n",
    "    print(f\"my {animal_type}'s name is {pet_name.title()}\")"
   ]
  },
  {
   "cell_type": "code",
   "execution_count": 77,
   "id": "ce84ab95-6a17-4d78-b971-0d805df00459",
   "metadata": {},
   "outputs": [
    {
     "name": "stdout",
     "output_type": "stream",
     "text": [
      "\n",
      "I have a dog\n",
      "my dog's name is Bruno\n"
     ]
    }
   ],
   "source": [
    "describe_pet('dog','bruno')"
   ]
  },
  {
   "cell_type": "code",
   "execution_count": 79,
   "id": "c4961218-c557-4a6d-a66c-49b7f320e6ac",
   "metadata": {},
   "outputs": [
    {
     "name": "stdout",
     "output_type": "stream",
     "text": [
      "\n",
      "I have a cat\n",
      "my cat's name is Stuart\n"
     ]
    }
   ],
   "source": [
    "describe_pet('cat','stuart')"
   ]
  },
  {
   "cell_type": "code",
   "execution_count": 81,
   "id": "c8490e9f-3bb6-47de-a8b3-ba80f7c2cd93",
   "metadata": {},
   "outputs": [
    {
     "name": "stdout",
     "output_type": "stream",
     "text": [
      "\n",
      "I have a scooby\n",
      "my scooby's name is Dog\n"
     ]
    }
   ],
   "source": [
    "describe_pet('scooby','dog')"
   ]
  },
  {
   "cell_type": "code",
   "execution_count": null,
   "id": "a9ca0e12-5f65-48cc-9142-5979878e3d12",
   "metadata": {},
   "outputs": [],
   "source": []
  },
  {
   "cell_type": "code",
   "execution_count": 83,
   "id": "71268b5c-d861-49c1-925d-7b55fb59eb79",
   "metadata": {},
   "outputs": [],
   "source": [
    "# keyword arguments"
   ]
  },
  {
   "cell_type": "code",
   "execution_count": 85,
   "id": "c77ac9b8-3d05-4e54-9896-3d6f95ed3b17",
   "metadata": {},
   "outputs": [
    {
     "name": "stdout",
     "output_type": "stream",
     "text": [
      "\n",
      "I have a \n",
      "my 's name is Scooby\n"
     ]
    }
   ],
   "source": [
    "describe_pet(pet_name='scooby',animal_type='')"
   ]
  },
  {
   "cell_type": "code",
   "execution_count": null,
   "id": "af879b4f-c0e8-49ca-af3c-e4b753191df7",
   "metadata": {},
   "outputs": [],
   "source": []
  },
  {
   "cell_type": "code",
   "execution_count": null,
   "id": "0984cebb-3db0-41e7-8c9c-2a94d447628f",
   "metadata": {},
   "outputs": [],
   "source": [
    "defualt arguments."
   ]
  },
  {
   "cell_type": "code",
   "execution_count": 89,
   "id": "7cc0d91f-b8d6-4f11-a02f-58a87d16b294",
   "metadata": {},
   "outputs": [
    {
     "ename": "TypeError",
     "evalue": "describe_pet() missing 1 required positional argument: 'pet_name'",
     "output_type": "error",
     "traceback": [
      "\u001b[1;31m---------------------------------------------------------------------------\u001b[0m",
      "\u001b[1;31mTypeError\u001b[0m                                 Traceback (most recent call last)",
      "Cell \u001b[1;32mIn[89], line 1\u001b[0m\n\u001b[1;32m----> 1\u001b[0m describe_pet(\u001b[38;5;124m'\u001b[39m\u001b[38;5;124msky\u001b[39m\u001b[38;5;124m'\u001b[39m)\n",
      "\u001b[1;31mTypeError\u001b[0m: describe_pet() missing 1 required positional argument: 'pet_name'"
     ]
    }
   ],
   "source": [
    "describe_pet('sky')"
   ]
  },
  {
   "cell_type": "code",
   "execution_count": 117,
   "id": "1dd619a6-4247-4bbd-8b51-1b0a33da3571",
   "metadata": {},
   "outputs": [],
   "source": [
    "def describe_pet(pet_name,animal_type = 'dog'):\n",
    "    \"\"\"display information about the pet\"\"\"\n",
    "    print(f\"\\nI have a {animal_type}\")\n",
    "    print(f\"my {animal_type}'s name is {pet_name.title()}\")"
   ]
  },
  {
   "cell_type": "code",
   "execution_count": null,
   "id": "038e5fbc-3f2c-4c61-b60b-e6b641be7395",
   "metadata": {},
   "outputs": [],
   "source": [
    "note : keep the defualt parameters always at the end of the function **"
   ]
  },
  {
   "cell_type": "code",
   "execution_count": 119,
   "id": "155ef2f3-a70d-4315-9717-bbecf7f7d314",
   "metadata": {},
   "outputs": [
    {
     "name": "stdout",
     "output_type": "stream",
     "text": [
      "\n",
      "I have a dog\n",
      "my dog's name is Sky\n"
     ]
    }
   ],
   "source": [
    "describe_pet('sky')"
   ]
  },
  {
   "cell_type": "code",
   "execution_count": 121,
   "id": "93a0a39a-e9be-4420-b1af-a25654fab9ba",
   "metadata": {},
   "outputs": [
    {
     "name": "stdout",
     "output_type": "stream",
     "text": [
      "\n",
      "I have a rabit\n",
      "my rabit's name is Burro\n"
     ]
    }
   ],
   "source": [
    "describe_pet('burro','rabit')"
   ]
  },
  {
   "cell_type": "code",
   "execution_count": null,
   "id": "490f677c-3f4f-4fea-80da-112f24253030",
   "metadata": {},
   "outputs": [],
   "source": []
  },
  {
   "cell_type": "code",
   "execution_count": null,
   "id": "b182671b-b68c-4c43-a5a9-57d30dc9cc8f",
   "metadata": {},
   "outputs": [],
   "source": []
  }
 ],
 "metadata": {
  "kernelspec": {
   "display_name": "Python [conda env:base] *",
   "language": "python",
   "name": "conda-base-py"
  },
  "language_info": {
   "codemirror_mode": {
    "name": "ipython",
    "version": 3
   },
   "file_extension": ".py",
   "mimetype": "text/x-python",
   "name": "python",
   "nbconvert_exporter": "python",
   "pygments_lexer": "ipython3",
   "version": "3.12.7"
  }
 },
 "nbformat": 4,
 "nbformat_minor": 5
}
