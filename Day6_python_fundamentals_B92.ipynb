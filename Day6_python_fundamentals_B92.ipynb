{
 "cells": [
  {
   "cell_type": "code",
   "execution_count": null,
   "id": "6453858c-1d17-4d5c-9464-089c8a2c9638",
   "metadata": {},
   "outputs": [],
   "source": [
    "introduction to tuple datatype :"
   ]
  },
  {
   "cell_type": "code",
   "execution_count": null,
   "id": "4a860409-b86a-4fbf-a3f2-adc27860f24c",
   "metadata": {},
   "outputs": [],
   "source": [
    "defintion : an immutable list is called a tuple :\n",
    "\n",
    "classification : it is classifie as an immutable datatype \n",
    "\n",
    "how to define the tuple -----? ( )"
   ]
  },
  {
   "cell_type": "code",
   "execution_count": null,
   "id": "b454f861-3d88-43fc-a0ba-282e2cb36dbc",
   "metadata": {},
   "outputs": [],
   "source": []
  },
  {
   "cell_type": "code",
   "execution_count": 1,
   "id": "ca8c0378-c0bd-4497-ac98-46d013d6681c",
   "metadata": {},
   "outputs": [],
   "source": [
    "students = ('praveen','dinesh','pooja','rahul','sajid')"
   ]
  },
  {
   "cell_type": "code",
   "execution_count": 3,
   "id": "06378642-e94b-49f3-b7f9-c385f056faad",
   "metadata": {},
   "outputs": [
    {
     "data": {
      "text/plain": [
       "tuple"
      ]
     },
     "execution_count": 3,
     "metadata": {},
     "output_type": "execute_result"
    }
   ],
   "source": [
    "type(students)"
   ]
  },
  {
   "cell_type": "code",
   "execution_count": 5,
   "id": "85187c5d-ed87-4487-9e1a-a244aaec30c8",
   "metadata": {},
   "outputs": [],
   "source": [
    "# req : i want to acess dinesh name in the op...?"
   ]
  },
  {
   "cell_type": "code",
   "execution_count": 9,
   "id": "8ed51e8b-5b31-4718-9998-74bf5570a8eb",
   "metadata": {},
   "outputs": [
    {
     "name": "stdout",
     "output_type": "stream",
     "text": [
      "dinesh\n"
     ]
    }
   ],
   "source": [
    "print(students[1])"
   ]
  },
  {
   "cell_type": "code",
   "execution_count": null,
   "id": "581d0095-c109-470b-82c9-a4fd278f4d89",
   "metadata": {},
   "outputs": [],
   "source": []
  },
  {
   "cell_type": "code",
   "execution_count": 11,
   "id": "5df5190a-64c1-4b4d-8a7b-e6f536c56a06",
   "metadata": {},
   "outputs": [],
   "source": [
    "# req : i want to modify pooja name to radha"
   ]
  },
  {
   "cell_type": "code",
   "execution_count": 13,
   "id": "a1f7f554-7eb1-4bc1-b834-fcc9d6f6d0b0",
   "metadata": {},
   "outputs": [
    {
     "ename": "TypeError",
     "evalue": "'tuple' object does not support item assignment",
     "output_type": "error",
     "traceback": [
      "\u001b[1;31m---------------------------------------------------------------------------\u001b[0m",
      "\u001b[1;31mTypeError\u001b[0m                                 Traceback (most recent call last)",
      "Cell \u001b[1;32mIn[13], line 1\u001b[0m\n\u001b[1;32m----> 1\u001b[0m students[\u001b[38;5;241m2\u001b[39m] \u001b[38;5;241m=\u001b[39m \u001b[38;5;124m'\u001b[39m\u001b[38;5;124mradha\u001b[39m\u001b[38;5;124m'\u001b[39m\n",
      "\u001b[1;31mTypeError\u001b[0m: 'tuple' object does not support item assignment"
     ]
    }
   ],
   "source": [
    "students[2] = 'radha'"
   ]
  },
  {
   "cell_type": "code",
   "execution_count": null,
   "id": "e4433b99-6ead-4bd8-979a-52b6bf707933",
   "metadata": {},
   "outputs": [],
   "source": []
  },
  {
   "cell_type": "code",
   "execution_count": 15,
   "id": "85ae229d-2887-401f-9691-19965787a7f0",
   "metadata": {},
   "outputs": [],
   "source": [
    "dimensions =( 200,50)"
   ]
  },
  {
   "cell_type": "code",
   "execution_count": 17,
   "id": "199e0bc0-dd08-4da2-be6b-53acb5f3fc9f",
   "metadata": {},
   "outputs": [
    {
     "name": "stdout",
     "output_type": "stream",
     "text": [
      "(200, 50)\n"
     ]
    }
   ],
   "source": [
    "print(dimensions)"
   ]
  },
  {
   "cell_type": "code",
   "execution_count": 19,
   "id": "ba883570-63e9-4641-9b2b-7b36fce987fb",
   "metadata": {},
   "outputs": [
    {
     "data": {
      "text/plain": [
       "tuple"
      ]
     },
     "execution_count": 19,
     "metadata": {},
     "output_type": "execute_result"
    }
   ],
   "source": [
    "type(dimensions)"
   ]
  },
  {
   "cell_type": "code",
   "execution_count": 21,
   "id": "fbd006a7-33ad-41fa-86cf-ba12603bbe5e",
   "metadata": {},
   "outputs": [
    {
     "name": "stdout",
     "output_type": "stream",
     "text": [
      "praveen\n",
      "dinesh\n",
      "pooja\n",
      "rahul\n",
      "sajid\n"
     ]
    }
   ],
   "source": [
    "for x in students:\n",
    "    print(x)"
   ]
  },
  {
   "cell_type": "code",
   "execution_count": 23,
   "id": "e8303223-58ea-45ad-ac92-8ed4daf07500",
   "metadata": {},
   "outputs": [
    {
     "name": "stdout",
     "output_type": "stream",
     "text": [
      "['dinesh', 'pooja', 'praveen', 'rahul', 'sajid']\n"
     ]
    }
   ],
   "source": [
    "print(sorted(students))"
   ]
  },
  {
   "cell_type": "code",
   "execution_count": null,
   "id": "b4a19518-0f52-41ee-8b79-c7970e523a4e",
   "metadata": {},
   "outputs": [],
   "source": []
  },
  {
   "cell_type": "code",
   "execution_count": null,
   "id": "dc5cd705-bcb4-4e64-aca1-f4825e5f1036",
   "metadata": {},
   "outputs": [],
   "source": [
    "introduction to dictionary datatype : **"
   ]
  },
  {
   "cell_type": "code",
   "execution_count": null,
   "id": "6799d7e5-8d6d-4c08-b191-4dda199f81d7",
   "metadata": {},
   "outputs": [],
   "source": [
    "defination : A dictionary is a combination of key value pairs.\n",
    "\n",
    "classified : it is an mutable datatype ( we can edit / alter the dictionary)\n",
    "\n",
    "how to declar the dictionary : { }"
   ]
  },
  {
   "cell_type": "code",
   "execution_count": null,
   "id": "99c2709b-8d4d-4d58-a570-ead4b5806050",
   "metadata": {},
   "outputs": [],
   "source": []
  },
  {
   "cell_type": "code",
   "execution_count": 25,
   "id": "3d2cbb00-3916-4405-b0cd-fedf3c33e096",
   "metadata": {},
   "outputs": [],
   "source": [
    "# req : i want to crete a alien game :"
   ]
  },
  {
   "cell_type": "code",
   "execution_count": null,
   "id": "6849f486-6bdd-472f-ae8a-9ac726ca528e",
   "metadata": {},
   "outputs": [],
   "source": []
  },
  {
   "cell_type": "code",
   "execution_count": 27,
   "id": "e3fa922f-aaf3-48f6-b460-94eeea7ad107",
   "metadata": {},
   "outputs": [],
   "source": [
    "alien = {'color':'green','point':5}"
   ]
  },
  {
   "cell_type": "code",
   "execution_count": 29,
   "id": "b66671c9-8949-45a2-b438-8ae9a01b1ae5",
   "metadata": {},
   "outputs": [
    {
     "name": "stdout",
     "output_type": "stream",
     "text": [
      "{'color': 'green', 'point': 5}\n"
     ]
    }
   ],
   "source": [
    "print(alien)"
   ]
  },
  {
   "cell_type": "code",
   "execution_count": 31,
   "id": "aa4ed33e-fda2-42fa-aa1f-5bfb4cbf7e50",
   "metadata": {},
   "outputs": [
    {
     "data": {
      "text/plain": [
       "dict"
      ]
     },
     "execution_count": 31,
     "metadata": {},
     "output_type": "execute_result"
    }
   ],
   "source": [
    "type(alien)"
   ]
  },
  {
   "cell_type": "code",
   "execution_count": null,
   "id": "1a1c6744-3528-4391-8e99-0ebd6d9f26e3",
   "metadata": {},
   "outputs": [],
   "source": [
    "not : in the dictionary key will be acting like an index"
   ]
  },
  {
   "cell_type": "code",
   "execution_count": 33,
   "id": "0881a915-fb6b-4adc-9c06-ac9a869b04fd",
   "metadata": {},
   "outputs": [],
   "source": [
    "# req : i want to know what is the color of the elien.....?"
   ]
  },
  {
   "cell_type": "code",
   "execution_count": 35,
   "id": "25396cb3-8b40-4b8e-9f07-8f42d06ae90b",
   "metadata": {},
   "outputs": [
    {
     "name": "stdout",
     "output_type": "stream",
     "text": [
      "green\n"
     ]
    }
   ],
   "source": [
    "print(alien['color'])"
   ]
  },
  {
   "cell_type": "code",
   "execution_count": 37,
   "id": "1d2a2fd5-6825-4bd8-841f-bd423b62ff90",
   "metadata": {},
   "outputs": [],
   "source": [
    "# give the key and get the value......?"
   ]
  },
  {
   "cell_type": "code",
   "execution_count": 39,
   "id": "6ffcceae-9f7d-4022-9918-1f7b642f8b19",
   "metadata": {},
   "outputs": [
    {
     "ename": "KeyError",
     "evalue": "5",
     "output_type": "error",
     "traceback": [
      "\u001b[1;31m---------------------------------------------------------------------------\u001b[0m",
      "\u001b[1;31mKeyError\u001b[0m                                  Traceback (most recent call last)",
      "Cell \u001b[1;32mIn[39], line 1\u001b[0m\n\u001b[1;32m----> 1\u001b[0m \u001b[38;5;28mprint\u001b[39m(alien[\u001b[38;5;241m5\u001b[39m])\n",
      "\u001b[1;31mKeyError\u001b[0m: 5"
     ]
    }
   ],
   "source": [
    "print(alien[5])"
   ]
  },
  {
   "cell_type": "code",
   "execution_count": null,
   "id": "f6be0aba-02af-4507-a7e5-51194dd987f9",
   "metadata": {},
   "outputs": [],
   "source": []
  },
  {
   "cell_type": "code",
   "execution_count": null,
   "id": "065063f6-a68c-4fa4-be3a-443eacf46e4a",
   "metadata": {},
   "outputs": [],
   "source": []
  },
  {
   "cell_type": "code",
   "execution_count": null,
   "id": "1c4f53d5-72be-4dde-ae66-38e3e2dbfac4",
   "metadata": {},
   "outputs": [],
   "source": []
  },
  {
   "cell_type": "code",
   "execution_count": null,
   "id": "9fa1008e-751b-487f-820f-46e55e02a6e4",
   "metadata": {},
   "outputs": [],
   "source": []
  }
 ],
 "metadata": {
  "kernelspec": {
   "display_name": "Python [conda env:base] *",
   "language": "python",
   "name": "conda-base-py"
  },
  "language_info": {
   "codemirror_mode": {
    "name": "ipython",
    "version": 3
   },
   "file_extension": ".py",
   "mimetype": "text/x-python",
   "name": "python",
   "nbconvert_exporter": "python",
   "pygments_lexer": "ipython3",
   "version": "3.12.7"
  }
 },
 "nbformat": 4,
 "nbformat_minor": 5
}
