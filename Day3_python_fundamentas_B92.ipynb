{
 "cells": [
  {
   "cell_type": "code",
   "execution_count": null,
   "id": "8e2286af-ca47-48d7-bb14-43f2f3c62d11",
   "metadata": {},
   "outputs": [],
   "source": [
    "continuation with string datatype :"
   ]
  },
  {
   "cell_type": "code",
   "execution_count": null,
   "id": "7ea162ea-2c44-4689-9e81-c79109e88260",
   "metadata": {},
   "outputs": [],
   "source": []
  },
  {
   "cell_type": "code",
   "execution_count": null,
   "id": "c52f8627-3aca-42de-b7a3-aa8df18b40a9",
   "metadata": {},
   "outputs": [],
   "source": [
    "introduction to f string :"
   ]
  },
  {
   "cell_type": "code",
   "execution_count": null,
   "id": "0462df4f-8677-4221-afd3-c655e575e402",
   "metadata": {},
   "outputs": [],
   "source": [
    "# Genral syntax of f string"
   ]
  },
  {
   "cell_type": "code",
   "execution_count": null,
   "id": "1bfc7938-b42e-45b9-9c14-2e79fad91aaa",
   "metadata": {},
   "outputs": [],
   "source": [
    "f\" custom  message {place_holder_1} {place_holder_2}........{place_holder_n}\""
   ]
  },
  {
   "cell_type": "code",
   "execution_count": null,
   "id": "4e934a92-328a-433e-89a7-525163ce2616",
   "metadata": {},
   "outputs": [],
   "source": []
  },
  {
   "cell_type": "code",
   "execution_count": 42,
   "id": "6e928b8b-7b4c-4c39-a0fe-ec29168e1dc7",
   "metadata": {},
   "outputs": [],
   "source": [
    "firstname = \"David\"\n",
    "\n",
    "lastname = \"john\""
   ]
  },
  {
   "cell_type": "code",
   "execution_count": null,
   "id": "fde4d16a-4db2-4790-a7bd-f43ea8834c22",
   "metadata": {},
   "outputs": [],
   "source": [
    "# req: i want to get the full name.....?"
   ]
  },
  {
   "cell_type": "code",
   "execution_count": 44,
   "id": "8dcebcae-c46c-461f-8c23-05ca9c640ceb",
   "metadata": {},
   "outputs": [
    {
     "name": "stdout",
     "output_type": "stream",
     "text": [
      "David john\n"
     ]
    }
   ],
   "source": [
    "fullname = f\"{firstname} {lastname}\"\n",
    "\n",
    "print(fullname)"
   ]
  },
  {
   "cell_type": "code",
   "execution_count": 46,
   "id": "79fd3e98-9550-493e-950c-d2001a4156ca",
   "metadata": {},
   "outputs": [
    {
     "name": "stdout",
     "output_type": "stream",
     "text": [
      "keep up the good work,  David john\n"
     ]
    }
   ],
   "source": [
    "message = f\"keep up the good work,  {fullname}\"\n",
    "\n",
    "print(message)"
   ]
  },
  {
   "cell_type": "code",
   "execution_count": 49,
   "id": "5e514c31-6b34-4542-aa8b-ab665105038b",
   "metadata": {},
   "outputs": [
    {
     "data": {
      "text/plain": [
       "str"
      ]
     },
     "execution_count": 49,
     "metadata": {},
     "output_type": "execute_result"
    }
   ],
   "source": [
    "type(fullname)"
   ]
  },
  {
   "cell_type": "code",
   "execution_count": null,
   "id": "770dde58-b432-4ab6-8fc8-0ed432c0543b",
   "metadata": {},
   "outputs": [],
   "source": [
    "# adding whitespaces to the strings :"
   ]
  },
  {
   "cell_type": "code",
   "execution_count": null,
   "id": "51d4ff01-315e-4c2a-9e73-91b17fcafd0a",
   "metadata": {},
   "outputs": [],
   "source": [
    "# req :"
   ]
  },
  {
   "cell_type": "code",
   "execution_count": 65,
   "id": "a5449ed5-2015-45e1-a82f-bf1090b49752",
   "metadata": {},
   "outputs": [
    {
     "name": "stdout",
     "output_type": "stream",
     "text": [
      "fav_porgramming_lang_:pythonc++javajavascriptswift\n"
     ]
    }
   ],
   "source": [
    "print(\"fav_porgramming_lang_:pythonc++javajavascriptswift\")"
   ]
  },
  {
   "cell_type": "code",
   "execution_count": null,
   "id": "d7412be8-2f34-4463-8214-6ab6afa92ef6",
   "metadata": {},
   "outputs": [],
   "source": []
  },
  {
   "cell_type": "code",
   "execution_count": 87,
   "id": "48bfcf8c-5552-44fb-a6d2-84c181a2218c",
   "metadata": {},
   "outputs": [
    {
     "name": "stdout",
     "output_type": "stream",
     "text": [
      "fav_porgramming_lang:\n",
      "python\n",
      "c++\n",
      "java\n",
      "c\n",
      "javascript\n",
      "swift\n"
     ]
    }
   ],
   "source": [
    "print(\"fav_porgramming_lang:\\npython\\nc++\\njava\\nc\\njavascript\\nswift\")  # \\n ---->  new line delimiter"
   ]
  },
  {
   "cell_type": "code",
   "execution_count": 89,
   "id": "88e84bb9-cf55-462e-859e-efa9e33b0981",
   "metadata": {},
   "outputs": [
    {
     "name": "stdout",
     "output_type": "stream",
     "text": [
      "fav_porgramming_lang:\n",
      "\tpython\n",
      "\tc++\n",
      "\tjava\n",
      "\tc\n",
      "\tjavascript\n",
      "\tswift\n"
     ]
    }
   ],
   "source": [
    "print(\"fav_porgramming_lang:\\n\\tpython\\n\\tc++\\n\\tjava\\n\\tc\\n\\tjavascript\\n\\tswift\") # \\t ----> tab delimiter"
   ]
  },
  {
   "cell_type": "code",
   "execution_count": null,
   "id": "dcad89b7-0af6-4ac2-9442-b295bc020d31",
   "metadata": {},
   "outputs": [],
   "source": []
  },
  {
   "cell_type": "code",
   "execution_count": null,
   "id": "1df505a6-5f13-4e0b-9865-1d3750b6d322",
   "metadata": {},
   "outputs": [],
   "source": [
    "removing whitespaces from the string:"
   ]
  },
  {
   "cell_type": "code",
   "execution_count": null,
   "id": "65e63987-59bf-4e40-9803-1834c3969bf2",
   "metadata": {},
   "outputs": [],
   "source": []
  },
  {
   "cell_type": "code",
   "execution_count": 93,
   "id": "50af57d1-d6b2-4326-afe4-60316559e078",
   "metadata": {},
   "outputs": [
    {
     "name": "stdout",
     "output_type": "stream",
     "text": [
      " python\n"
     ]
    }
   ],
   "source": [
    "name = ' python'\n",
    "\n",
    "print(name)"
   ]
  },
  {
   "cell_type": "code",
   "execution_count": 99,
   "id": "72bd4890-805a-4026-a86e-b1000559f2eb",
   "metadata": {},
   "outputs": [
    {
     "name": "stdout",
     "output_type": "stream",
     "text": [
      "python\n"
     ]
    }
   ],
   "source": [
    "name2 = 'python'\n",
    "\n",
    "print(name2)"
   ]
  },
  {
   "cell_type": "code",
   "execution_count": 97,
   "id": "5f139b54-a8bf-4ffc-9360-e2f3e4340e28",
   "metadata": {},
   "outputs": [
    {
     "name": "stdout",
     "output_type": "stream",
     "text": [
      "python \n"
     ]
    }
   ],
   "source": [
    "name3 = 'python '\n",
    "\n",
    "print(name3)"
   ]
  },
  {
   "cell_type": "code",
   "execution_count": 101,
   "id": "855f4317-45c8-4fcc-a32e-bae27bd29c8f",
   "metadata": {},
   "outputs": [
    {
     "data": {
      "text/plain": [
       "'python'"
      ]
     },
     "execution_count": 101,
     "metadata": {},
     "output_type": "execute_result"
    }
   ],
   "source": [
    "name.lstrip() #left strip"
   ]
  },
  {
   "cell_type": "code",
   "execution_count": 107,
   "id": "9862bfa5-c6c9-48e9-bdde-b9beed79628e",
   "metadata": {},
   "outputs": [
    {
     "name": "stdout",
     "output_type": "stream",
     "text": [
      " python \n"
     ]
    }
   ],
   "source": [
    "name4 = \" python \"\n",
    "\n",
    "print(name4)"
   ]
  },
  {
   "cell_type": "raw",
   "id": "d9a50534-3a06-4bdc-a499-92ef0be4772e",
   "metadata": {},
   "source": []
  },
  {
   "cell_type": "code",
   "execution_count": null,
   "id": "3c802760-50e6-47f6-9bb4-7c3c23fbe067",
   "metadata": {},
   "outputs": [],
   "source": []
  },
  {
   "cell_type": "code",
   "execution_count": null,
   "id": "a68c8e99-7084-4a29-a780-277d391d2781",
   "metadata": {},
   "outputs": [],
   "source": []
  },
  {
   "cell_type": "code",
   "execution_count": null,
   "id": "c65b6772-a81b-4b61-8300-269cd4cc9133",
   "metadata": {},
   "outputs": [],
   "source": []
  },
  {
   "cell_type": "code",
   "execution_count": null,
   "id": "1741f509-c338-48d4-b594-c2b1d5b221ad",
   "metadata": {},
   "outputs": [],
   "source": []
  },
  {
   "cell_type": "code",
   "execution_count": null,
   "id": "f1fdf331-544d-48cf-a4bd-e31c965a5ee3",
   "metadata": {},
   "outputs": [],
   "source": []
  },
  {
   "cell_type": "code",
   "execution_count": null,
   "id": "fe2a50bc-2201-4b6d-880a-71e475fa4e18",
   "metadata": {},
   "outputs": [],
   "source": []
  },
  {
   "cell_type": "code",
   "execution_count": null,
   "id": "a4a7c2d8-7727-4adc-8030-f36a7734b298",
   "metadata": {},
   "outputs": [],
   "source": []
  },
  {
   "cell_type": "code",
   "execution_count": null,
   "id": "1ed7fae5-c441-46d6-bd4a-0405ef26b2e2",
   "metadata": {},
   "outputs": [],
   "source": []
  },
  {
   "cell_type": "code",
   "execution_count": null,
   "id": "69215d55-248c-4a7e-9f31-507253001feb",
   "metadata": {},
   "outputs": [],
   "source": []
  }
 ],
 "metadata": {
  "kernelspec": {
   "display_name": "Python [conda env:base] *",
   "language": "python",
   "name": "conda-base-py"
  },
  "language_info": {
   "codemirror_mode": {
    "name": "ipython",
    "version": 3
   },
   "file_extension": ".py",
   "mimetype": "text/x-python",
   "name": "python",
   "nbconvert_exporter": "python",
   "pygments_lexer": "ipython3",
   "version": "3.12.7"
  }
 },
 "nbformat": 4,
 "nbformat_minor": 5
}
