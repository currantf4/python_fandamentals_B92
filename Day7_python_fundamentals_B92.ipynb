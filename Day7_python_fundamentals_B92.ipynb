{
 "cells": [
  {
   "cell_type": "code",
   "execution_count": null,
   "id": "3ae3fd94-a4cd-46bb-95a0-6da60f2791bc",
   "metadata": {},
   "outputs": [],
   "source": [
    "introduction to dictionary datatype : **"
   ]
  },
  {
   "cell_type": "code",
   "execution_count": null,
   "id": "0e9307b8-1000-43b1-bffa-d9454dbb9bc7",
   "metadata": {},
   "outputs": [],
   "source": [
    "defination : A dictionary is a combination of ky value pairs.\n",
    "\n",
    "classified : it is classified as a mutablw datatype\n",
    "\n",
    "how to define the dictionary :? { }\n"
   ]
  },
  {
   "cell_type": "code",
   "execution_count": null,
   "id": "d95b8f41-8121-4c5c-9183-990445eca5fc",
   "metadata": {},
   "outputs": [],
   "source": []
  },
  {
   "cell_type": "code",
   "execution_count": 1,
   "id": "ed5dc184-e6a1-404b-a3e1-736a537e072b",
   "metadata": {},
   "outputs": [],
   "source": [
    "# creating a sample dictionary :"
   ]
  },
  {
   "cell_type": "code",
   "execution_count": 15,
   "id": "1102c8be-743c-4dc0-8503-3763c49a838d",
   "metadata": {},
   "outputs": [],
   "source": [
    "alien = {'color':'green','points':5}"
   ]
  },
  {
   "cell_type": "code",
   "execution_count": 17,
   "id": "89d0000b-015e-47a2-be0d-0cc5525a5522",
   "metadata": {},
   "outputs": [
    {
     "name": "stdout",
     "output_type": "stream",
     "text": [
      "{'color': 'green', 'points': 5}\n"
     ]
    }
   ],
   "source": [
    "print(alien)"
   ]
  },
  {
   "cell_type": "code",
   "execution_count": 7,
   "id": "b065de1c-c557-4484-8c36-dc47235c5cbd",
   "metadata": {},
   "outputs": [
    {
     "data": {
      "text/plain": [
       "dict"
      ]
     },
     "execution_count": 7,
     "metadata": {},
     "output_type": "execute_result"
    }
   ],
   "source": [
    "type(alien)"
   ]
  },
  {
   "cell_type": "code",
   "execution_count": 9,
   "id": "5b5aab21-b3aa-40c4-bd9a-21113f4d2c8f",
   "metadata": {},
   "outputs": [],
   "source": [
    "# how to access key value pairs in the dictionary :"
   ]
  },
  {
   "cell_type": "code",
   "execution_count": null,
   "id": "187764d1-bf49-40d1-ba8b-3999e2ae74b2",
   "metadata": {},
   "outputs": [],
   "source": [
    "note : keys will be acting as an indexes in the dictionary :"
   ]
  },
  {
   "cell_type": "code",
   "execution_count": 19,
   "id": "e92b8f65-112a-4d38-bac6-29fdd9dc84ef",
   "metadata": {},
   "outputs": [],
   "source": [
    "# req : i want to know the color of the alien......?"
   ]
  },
  {
   "cell_type": "code",
   "execution_count": 23,
   "id": "a9da17f3-0b6a-4302-afc4-beb3cbc80412",
   "metadata": {},
   "outputs": [
    {
     "name": "stdout",
     "output_type": "stream",
     "text": [
      "5\n"
     ]
    }
   ],
   "source": [
    "print(alien['points'])"
   ]
  },
  {
   "cell_type": "code",
   "execution_count": null,
   "id": "07d14a84-30c1-4d43-934d-851064fb9df9",
   "metadata": {},
   "outputs": [],
   "source": [
    "give the key and get the value !!"
   ]
  },
  {
   "cell_type": "code",
   "execution_count": null,
   "id": "86acc68f-20f0-446d-a736-447a4eb2dbf0",
   "metadata": {},
   "outputs": [],
   "source": []
  },
  {
   "cell_type": "code",
   "execution_count": 25,
   "id": "d196b32c-6d85-4022-a871-1124ee3e277f",
   "metadata": {},
   "outputs": [],
   "source": [
    "# how to add new key value pairs to the dictionary !!"
   ]
  },
  {
   "cell_type": "code",
   "execution_count": 27,
   "id": "452b9885-b771-46ef-a6a9-1ccbe5106be6",
   "metadata": {},
   "outputs": [],
   "source": [
    "# req : i want to add start_position of the alien 0"
   ]
  },
  {
   "cell_type": "code",
   "execution_count": 29,
   "id": "8ab0a24b-6132-4259-8778-c21d38232512",
   "metadata": {},
   "outputs": [],
   "source": [
    "alien['start_position'] = 0"
   ]
  },
  {
   "cell_type": "code",
   "execution_count": 31,
   "id": "f4374f7b-a080-47cd-9fd2-a84ed6a4d0c1",
   "metadata": {},
   "outputs": [
    {
     "name": "stdout",
     "output_type": "stream",
     "text": [
      "{'color': 'green', 'points': 5, 'start_position': 0}\n"
     ]
    }
   ],
   "source": [
    "print(alien)"
   ]
  },
  {
   "cell_type": "code",
   "execution_count": 45,
   "id": "2dc1f7ae-6183-4db1-b77c-85f0b38619f4",
   "metadata": {},
   "outputs": [],
   "source": [
    "# req : creat a new instagram account :"
   ]
  },
  {
   "cell_type": "code",
   "execution_count": 47,
   "id": "0d7de83b-b5a1-4a87-8750-b66663d619ed",
   "metadata": {},
   "outputs": [],
   "source": [
    "new_account = {'username':'python','first_name':'training','dob':'01-01-2020','pwd':'54321'}"
   ]
  },
  {
   "cell_type": "code",
   "execution_count": 49,
   "id": "ac2c462b-05ab-4ab7-918f-ccb8aeec3f6c",
   "metadata": {},
   "outputs": [
    {
     "name": "stdout",
     "output_type": "stream",
     "text": [
      "{'username': 'python', 'first_name': 'training', 'dob': '01-01-2020', 'pwd': '54321'}\n"
     ]
    }
   ],
   "source": [
    "print(new_account)"
   ]
  },
  {
   "cell_type": "code",
   "execution_count": 51,
   "id": "ee2731ed-3a26-4d41-8eff-7c1cdbd216fd",
   "metadata": {},
   "outputs": [],
   "source": [
    "# req : i want to update the user_name :"
   ]
  },
  {
   "cell_type": "code",
   "execution_count": 53,
   "id": "d02cd69d-7ebb-4421-880b-59393730f7fb",
   "metadata": {},
   "outputs": [],
   "source": [
    "new_account['username'] ='python training'"
   ]
  },
  {
   "cell_type": "code",
   "execution_count": 55,
   "id": "5b873b4f-8456-4f50-9a28-4340a00ee398",
   "metadata": {},
   "outputs": [
    {
     "name": "stdout",
     "output_type": "stream",
     "text": [
      "{'username': 'python training', 'first_name': 'training', 'dob': '01-01-2020', 'pwd': '54321'}\n"
     ]
    }
   ],
   "source": [
    "print(new_account)"
   ]
  },
  {
   "cell_type": "code",
   "execution_count": 57,
   "id": "389f37cc-8a8a-489f-a1ea-b95d3571a84d",
   "metadata": {},
   "outputs": [],
   "source": [
    "# how to delet the key value pairs :"
   ]
  },
  {
   "cell_type": "code",
   "execution_count": 59,
   "id": "3a9c1612-ed42-4c45-9dcb-2fd5863cb23a",
   "metadata": {},
   "outputs": [],
   "source": [
    "# req : i want to delete pwd."
   ]
  },
  {
   "cell_type": "code",
   "execution_count": 65,
   "id": "db0db55f-15d8-4c92-8e9c-cfd02fe4e410",
   "metadata": {},
   "outputs": [],
   "source": [
    "del new_account['pwd']"
   ]
  },
  {
   "cell_type": "code",
   "execution_count": 67,
   "id": "bd6d5e6a-1894-4848-a78f-2999fb60d4b3",
   "metadata": {},
   "outputs": [
    {
     "name": "stdout",
     "output_type": "stream",
     "text": [
      "{'username': 'python training', 'first_name': 'training', 'dob': '01-01-2020'}\n"
     ]
    }
   ],
   "source": [
    "print(new_account)"
   ]
  },
  {
   "cell_type": "code",
   "execution_count": null,
   "id": "1b0f3608-9574-4416-bf01-fc5fe3114048",
   "metadata": {},
   "outputs": [],
   "source": []
  },
  {
   "cell_type": "code",
   "execution_count": null,
   "id": "0fc30b47-5623-4867-b755-3f73fecb50bf",
   "metadata": {},
   "outputs": [],
   "source": []
  }
 ],
 "metadata": {
  "kernelspec": {
   "display_name": "Python [conda env:base] *",
   "language": "python",
   "name": "conda-base-py"
  },
  "language_info": {
   "codemirror_mode": {
    "name": "ipython",
    "version": 3
   },
   "file_extension": ".py",
   "mimetype": "text/x-python",
   "name": "python",
   "nbconvert_exporter": "python",
   "pygments_lexer": "ipython3",
   "version": "3.12.7"
  }
 },
 "nbformat": 4,
 "nbformat_minor": 5
}
