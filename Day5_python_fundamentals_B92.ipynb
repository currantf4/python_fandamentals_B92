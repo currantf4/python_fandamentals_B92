{
 "cells": [
  {
   "cell_type": "code",
   "execution_count": null,
   "id": "5045e8ef-54d3-4368-a635-bbcb217f974f",
   "metadata": {},
   "outputs": [],
   "source": [
    "continuation with list datatype :"
   ]
  },
  {
   "cell_type": "code",
   "execution_count": null,
   "id": "07b3d028-fc11-4534-910d-4f22f0a4c919",
   "metadata": {},
   "outputs": [],
   "source": [
    "oganising the list datatype :"
   ]
  },
  {
   "cell_type": "code",
   "execution_count": null,
   "id": "902969ca-832b-4936-ae11-47c868e15fd4",
   "metadata": {},
   "outputs": [],
   "source": []
  },
  {
   "cell_type": "code",
   "execution_count": 5,
   "id": "8e71f4a8-dd5b-4389-baaa-f1413f5af2b0",
   "metadata": {},
   "outputs": [],
   "source": [
    "cars = ['kia','audi','maruthi','benz','toyota','byd','mg']"
   ]
  },
  {
   "cell_type": "code",
   "execution_count": 7,
   "id": "2e9e6eb3-82f5-4e7c-ac6c-fe3346ad4f64",
   "metadata": {},
   "outputs": [
    {
     "name": "stdout",
     "output_type": "stream",
     "text": [
      "['kia', 'audi', 'maruthi', 'benz', 'toyota', 'byd', 'mg']\n"
     ]
    }
   ],
   "source": [
    "print(cars)"
   ]
  },
  {
   "cell_type": "code",
   "execution_count": null,
   "id": "162e0763-3a5c-42e1-8318-f820712cbae4",
   "metadata": {},
   "outputs": [],
   "source": []
  },
  {
   "cell_type": "code",
   "execution_count": 9,
   "id": "ef3a52ef-2597-4ef9-9d48-399ed8617ab7",
   "metadata": {},
   "outputs": [],
   "source": [
    "# req : i want to arrange the cars list in an alphabetical ordwe -------. A -Z"
   ]
  },
  {
   "cell_type": "markdown",
   "id": "b77f0221-e4dc-4685-9cc0-02e129facd28",
   "metadata": {},
   "source": [
    "2 approch :\n",
    "    1. temp approch ----------> sorted ====> we will be able to get the orignal order of the list declared.\n",
    "    2. permanent approch ---------> sort =====> we will not be able to get the original order ---- changes are applied perm."
   ]
  },
  {
   "cell_type": "code",
   "execution_count": 11,
   "id": "0d6b8273-d5ef-4b3e-87e5-b3044069e358",
   "metadata": {},
   "outputs": [],
   "source": [
    "# temp approach"
   ]
  },
  {
   "cell_type": "code",
   "execution_count": 13,
   "id": "f8bd911a-6b55-461d-81b9-62ca80376cc7",
   "metadata": {},
   "outputs": [
    {
     "name": "stdout",
     "output_type": "stream",
     "text": [
      "['audi', 'benz', 'byd', 'kia', 'maruthi', 'mg', 'toyota']\n"
     ]
    }
   ],
   "source": [
    "print(sorted(cars))"
   ]
  },
  {
   "cell_type": "code",
   "execution_count": 15,
   "id": "067dcb64-d02f-4ef4-a6d6-44e306166638",
   "metadata": {},
   "outputs": [
    {
     "name": "stdout",
     "output_type": "stream",
     "text": [
      "['kia', 'audi', 'maruthi', 'benz', 'toyota', 'byd', 'mg']\n"
     ]
    }
   ],
   "source": [
    "print(cars) #this is the orginal order"
   ]
  },
  {
   "cell_type": "code",
   "execution_count": null,
   "id": "8733fa86-2694-4eef-94b4-b168f212eeec",
   "metadata": {},
   "outputs": [],
   "source": []
  },
  {
   "cell_type": "code",
   "execution_count": 17,
   "id": "1ca71837-a6bf-4e59-9fa3-05b43bb8352a",
   "metadata": {},
   "outputs": [],
   "source": [
    "cars.sort()"
   ]
  },
  {
   "cell_type": "code",
   "execution_count": 19,
   "id": "d746349c-6af0-45ae-839b-c8b21cf9f698",
   "metadata": {},
   "outputs": [
    {
     "name": "stdout",
     "output_type": "stream",
     "text": [
      "['audi', 'benz', 'byd', 'kia', 'maruthi', 'mg', 'toyota']\n"
     ]
    }
   ],
   "source": [
    "print(cars)"
   ]
  },
  {
   "cell_type": "code",
   "execution_count": 21,
   "id": "7bb29c3c-c3f6-4721-af87-57814b85949d",
   "metadata": {},
   "outputs": [
    {
     "name": "stdout",
     "output_type": "stream",
     "text": [
      "['audi', 'benz', 'byd', 'kia', 'maruthi', 'mg', 'toyota']\n"
     ]
    }
   ],
   "source": [
    "print(cars)"
   ]
  },
  {
   "cell_type": "code",
   "execution_count": null,
   "id": "b0b5d374-3284-422e-bbf6-0a565934e346",
   "metadata": {},
   "outputs": [],
   "source": [
    "interview_que : what is the diff between sorted and sort about in a list datatype? can you please explain?"
   ]
  },
  {
   "cell_type": "code",
   "execution_count": null,
   "id": "c596a5bd-eb77-4e5e-b268-52a691fbb981",
   "metadata": {},
   "outputs": [],
   "source": []
  },
  {
   "cell_type": "code",
   "execution_count": 23,
   "id": "c8b80e69-6e71-4ce8-b359-cf99e26649e3",
   "metadata": {},
   "outputs": [],
   "source": [
    "# req : i want to know the no of items that are there in the list ........?"
   ]
  },
  {
   "cell_type": "code",
   "execution_count": 25,
   "id": "170cda03-efc1-4854-80d7-4986f737e528",
   "metadata": {},
   "outputs": [
    {
     "data": {
      "text/plain": [
       "7"
      ]
     },
     "execution_count": 25,
     "metadata": {},
     "output_type": "execute_result"
    }
   ],
   "source": [
    "len(cars)"
   ]
  },
  {
   "cell_type": "code",
   "execution_count": 45,
   "id": "264c75f1-720c-4580-a326-00dd38d77393",
   "metadata": {},
   "outputs": [],
   "source": [
    "# req i want to print the list in the reverse order....."
   ]
  },
  {
   "cell_type": "code",
   "execution_count": 47,
   "id": "58d87be2-2286-481c-89e9-00665e72dce3",
   "metadata": {},
   "outputs": [],
   "source": [
    "cars.reverse()"
   ]
  },
  {
   "cell_type": "code",
   "execution_count": 49,
   "id": "de1bea32-b76d-411f-8c8b-444ee5392387",
   "metadata": {},
   "outputs": [
    {
     "name": "stdout",
     "output_type": "stream",
     "text": [
      "['toyota', 'mg', 'maruthi', 'kia', 'byd', 'benz', 'audi']\n"
     ]
    }
   ],
   "source": [
    "print(cars) # reverse ordr ------->"
   ]
  },
  {
   "cell_type": "code",
   "execution_count": null,
   "id": "17211f06-3d07-4385-9f76-751cb4f8d953",
   "metadata": {},
   "outputs": [],
   "source": []
  },
  {
   "cell_type": "code",
   "execution_count": null,
   "id": "5237eb0f-04e0-48f6-a594-cf19c2f45ecd",
   "metadata": {},
   "outputs": [],
   "source": [
    "for loop :"
   ]
  },
  {
   "cell_type": "code",
   "execution_count": null,
   "id": "c1e454a1-3e0d-472c-b6e9-638483391225",
   "metadata": {},
   "outputs": [],
   "source": [
    "# genral syntax :"
   ]
  },
  {
   "cell_type": "code",
   "execution_count": null,
   "id": "67ee3263-4ab9-4908-9783-0bee361e9bcf",
   "metadata": {},
   "outputs": [],
   "source": [
    "for tempvar in mainvar:\n",
    "    print(tempvar) "
   ]
  },
  {
   "cell_type": "code",
   "execution_count": 53,
   "id": "96789960-5f11-4c8c-94fd-ab6918d2c3b0",
   "metadata": {},
   "outputs": [
    {
     "name": "stdout",
     "output_type": "stream",
     "text": [
      "['toyota', 'mg', 'maruthi', 'kia', 'byd', 'benz', 'audi']\n"
     ]
    }
   ],
   "source": [
    "print(cars) # mainvar"
   ]
  },
  {
   "cell_type": "code",
   "execution_count": 55,
   "id": "c5679baf-917c-4909-b7a1-31f1b27cb3d2",
   "metadata": {},
   "outputs": [
    {
     "name": "stdout",
     "output_type": "stream",
     "text": [
      "toyota\n",
      "mg\n",
      "maruthi\n",
      "kia\n",
      "byd\n",
      "benz\n",
      "audi\n"
     ]
    }
   ],
   "source": [
    "for x in cars:\n",
    "    print(x)"
   ]
  },
  {
   "cell_type": "code",
   "execution_count": 61,
   "id": "2357dc83-e7fd-4a94-9eb4-c54f64a20be1",
   "metadata": {},
   "outputs": [],
   "source": [
    "students = ['lubna','ayesha','naveena','arvind','sohail','john'] "
   ]
  },
  {
   "cell_type": "code",
   "execution_count": 63,
   "id": "bf228e9b-2736-463b-89b5-b7b70bb131ef",
   "metadata": {},
   "outputs": [
    {
     "name": "stdout",
     "output_type": "stream",
     "text": [
      "['lubna', 'ayesha', 'naveena', 'arvind', 'sohail', 'john']\n"
     ]
    }
   ],
   "source": [
    "print(students)"
   ]
  },
  {
   "cell_type": "code",
   "execution_count": 65,
   "id": "3f7e7d7d-2a1a-4db1-a145-b61c9ae01c39",
   "metadata": {},
   "outputs": [],
   "source": [
    "# req : i want to appreciate lubna for daily consistency."
   ]
  },
  {
   "cell_type": "code",
   "execution_count": 75,
   "id": "ec41d483-221b-4351-bdac-1f2a81e02138",
   "metadata": {},
   "outputs": [
    {
     "name": "stdout",
     "output_type": "stream",
     "text": [
      "keep up the good work, Lubna\n"
     ]
    }
   ],
   "source": [
    "message = f\"keep up the good work, {students[0].title()}\"\n",
    "\n",
    "print(message)"
   ]
  },
  {
   "cell_type": "code",
   "execution_count": 77,
   "id": "83f19ad0-6a42-4968-b07e-c8ad4ef968d2",
   "metadata": {},
   "outputs": [
    {
     "name": "stdout",
     "output_type": "stream",
     "text": [
      "keep up the good work, Ayesha\n"
     ]
    }
   ],
   "source": [
    "message = f\"keep up the good work, {students[1].title()}\"\n",
    "\n",
    "print(message)"
   ]
  },
  {
   "cell_type": "code",
   "execution_count": 79,
   "id": "f43b73aa-19d4-4045-aa42-b7f42038c3ee",
   "metadata": {},
   "outputs": [
    {
     "name": "stdout",
     "output_type": "stream",
     "text": [
      "keep up the good work, Lubna\n",
      "keep up the good work, Ayesha\n",
      "keep up the good work, Naveena\n",
      "keep up the good work, Arvind\n",
      "keep up the good work, Sohail\n",
      "keep up the good work, John\n"
     ]
    }
   ],
   "source": [
    "for a in students:\n",
    "    print(f\"keep up the good work, {a.title()}\")"
   ]
  },
  {
   "cell_type": "code",
   "execution_count": 81,
   "id": "a9116926-7e64-49d4-87df-8fcebc8d07fe",
   "metadata": {},
   "outputs": [
    {
     "name": "stdout",
     "output_type": "stream",
     "text": [
      "keep up the good work, Lubna\n",
      "i will be looking forward to recive your today submission, Lubna\n",
      "keep up the good work, Ayesha\n",
      "i will be looking forward to recive your today submission, Ayesha\n",
      "keep up the good work, Naveena\n",
      "i will be looking forward to recive your today submission, Naveena\n",
      "keep up the good work, Arvind\n",
      "i will be looking forward to recive your today submission, Arvind\n",
      "keep up the good work, Sohail\n",
      "i will be looking forward to recive your today submission, Sohail\n",
      "keep up the good work, John\n",
      "i will be looking forward to recive your today submission, John\n"
     ]
    }
   ],
   "source": [
    "for a in students:\n",
    "    print(f\"keep up the good work, {a.title()}\")\n",
    "    print(f\"i will be looking forward to recive your today submission, {a.title()}\")"
   ]
  },
  {
   "cell_type": "code",
   "execution_count": 83,
   "id": "115b3357-456a-4a1b-8dd2-261826a53bf5",
   "metadata": {},
   "outputs": [
    {
     "name": "stdout",
     "output_type": "stream",
     "text": [
      "keep up the good work, Lubna\n",
      "i will be looking forward to recive your today submission, Lubna\n",
      "\n",
      "keep up the good work, Ayesha\n",
      "i will be looking forward to recive your today submission, Ayesha\n",
      "\n",
      "keep up the good work, Naveena\n",
      "i will be looking forward to recive your today submission, Naveena\n",
      "\n",
      "keep up the good work, Arvind\n",
      "i will be looking forward to recive your today submission, Arvind\n",
      "\n",
      "keep up the good work, Sohail\n",
      "i will be looking forward to recive your today submission, Sohail\n",
      "\n",
      "keep up the good work, John\n",
      "i will be looking forward to recive your today submission, John\n",
      "\n"
     ]
    }
   ],
   "source": [
    "for a in students:\n",
    "    print(f\"keep up the good work, {a.title()}\")\n",
    "    print(f\"i will be looking forward to recive your today submission, {a.title()}\\n\")"
   ]
  },
  {
   "cell_type": "code",
   "execution_count": null,
   "id": "f45cffb9-acb9-4599-afd8-6479e3209dc5",
   "metadata": {},
   "outputs": [],
   "source": [
    "for ironman in mainvar:\n",
    "    print(temp)"
   ]
  },
  {
   "cell_type": "code",
   "execution_count": 85,
   "id": "fbd595fb-4969-4031-b7b1-e464405cad12",
   "metadata": {},
   "outputs": [
    {
     "name": "stdout",
     "output_type": "stream",
     "text": [
      "lubna\n",
      "ayesha\n",
      "naveena\n",
      "arvind\n",
      "sohail\n",
      "john\n"
     ]
    }
   ],
   "source": [
    "for ironman in students:\n",
    "    print(ironman) # indentation"
   ]
  },
  {
   "cell_type": "code",
   "execution_count": 87,
   "id": "3cf9ad53-af5a-4250-b48c-65bf43ebfbf9",
   "metadata": {},
   "outputs": [
    {
     "name": "stdout",
     "output_type": "stream",
     "text": [
      "keep up the good work, Lubna\n",
      "i will be looking forward to recive your today submission, Lubna\n",
      "\n",
      "keep up the good work, Ayesha\n",
      "i will be looking forward to recive your today submission, Ayesha\n",
      "\n",
      "keep up the good work, Naveena\n",
      "i will be looking forward to recive your today submission, Naveena\n",
      "\n",
      "keep up the good work, Arvind\n",
      "i will be looking forward to recive your today submission, Arvind\n",
      "\n",
      "keep up the good work, Sohail\n",
      "i will be looking forward to recive your today submission, Sohail\n",
      "\n",
      "keep up the good work, John\n",
      "i will be looking forward to recive your today submission, John\n",
      "\n",
      "thank you all for showing interst in learning python\n"
     ]
    }
   ],
   "source": [
    "for a in students:\n",
    "    print(f\"keep up the good work, {a.title()}\")\n",
    "    print(f\"i will be looking forward to recive your today submission, {a.title()}\\n\")\n",
    "\n",
    "print(\"thank you all for showing interst in learning python\")"
   ]
  },
  {
   "cell_type": "code",
   "execution_count": null,
   "id": "9de499d9-a996-4eae-a8cf-14ddb1ac2c7f",
   "metadata": {},
   "outputs": [],
   "source": []
  },
  {
   "cell_type": "code",
   "execution_count": null,
   "id": "63e79335-3853-45a4-9dc7-97b781becf16",
   "metadata": {},
   "outputs": [],
   "source": []
  },
  {
   "cell_type": "code",
   "execution_count": null,
   "id": "f7110d8f-b046-470d-b0bb-582fc25251d3",
   "metadata": {},
   "outputs": [],
   "source": []
  },
  {
   "cell_type": "code",
   "execution_count": null,
   "id": "b52b0d4e-56ff-4e21-a250-8df4f87e1435",
   "metadata": {},
   "outputs": [],
   "source": []
  },
  {
   "cell_type": "code",
   "execution_count": null,
   "id": "83969ef5-c172-4a4d-8514-3c9156f98b19",
   "metadata": {},
   "outputs": [],
   "source": []
  },
  {
   "cell_type": "code",
   "execution_count": null,
   "id": "c6f84205-4516-44d1-a405-d7dc1832a97b",
   "metadata": {},
   "outputs": [],
   "source": []
  }
 ],
 "metadata": {
  "kernelspec": {
   "display_name": "Python [conda env:base] *",
   "language": "python",
   "name": "conda-base-py"
  },
  "language_info": {
   "codemirror_mode": {
    "name": "ipython",
    "version": 3
   },
   "file_extension": ".py",
   "mimetype": "text/x-python",
   "name": "python",
   "nbconvert_exporter": "python",
   "pygments_lexer": "ipython3",
   "version": "3.12.7"
  }
 },
 "nbformat": 4,
 "nbformat_minor": 5
}
