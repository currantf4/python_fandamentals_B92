{
 "cells": [
  {
   "cell_type": "code",
   "execution_count": null,
   "id": "18244fae-9946-41a5-8eda-7d6c57969540",
   "metadata": {},
   "outputs": [],
   "source": [
    "introduction to list datatype"
   ]
  },
  {
   "cell_type": "code",
   "execution_count": null,
   "id": "3e91068d-bc84-4048-8772-75507c0531b0",
   "metadata": {},
   "outputs": [],
   "source": [
    "defination : A list is a collection of items delared in a particular order.\n",
    "\n",
    "classification : It is classified as an mutable datatype\n",
    "\n",
    "how to define the list.....? [ ]"
   ]
  },
  {
   "cell_type": "code",
   "execution_count": null,
   "id": "e48585a4-b146-4c0a-a3b7-bf972c6fb7d4",
   "metadata": {},
   "outputs": [],
   "source": []
  },
  {
   "cell_type": "code",
   "execution_count": 15,
   "id": "3d8b9206-9784-4946-8fae-349e34ffb51e",
   "metadata": {},
   "outputs": [],
   "source": [
    "students = ['lubna','ayesha','naveena','arvind','sohail','john'] # 0,1,2,3,4,5"
   ]
  },
  {
   "cell_type": "code",
   "execution_count": 17,
   "id": "3dad073d-0cc0-4a32-a5cc-00d31b16ff9a",
   "metadata": {},
   "outputs": [
    {
     "name": "stdout",
     "output_type": "stream",
     "text": [
      "['lubna', 'ayesha', 'naveena', 'arvind', 'sohail', 'john']\n"
     ]
    }
   ],
   "source": [
    "print(students)"
   ]
  },
  {
   "cell_type": "code",
   "execution_count": null,
   "id": "2db3dbdc-d455-4d1d-9385-d8c4f5160688",
   "metadata": {},
   "outputs": [],
   "source": []
  },
  {
   "cell_type": "raw",
   "id": "6021fc6f-42cb-4c67-9ac8-5554cc775d2c",
   "metadata": {},
   "source": [
    "understanding the concept of indexing :"
   ]
  },
  {
   "cell_type": "code",
   "execution_count": 19,
   "id": "1675f21c-7b2d-4137-ba10-2eff5b1e715c",
   "metadata": {},
   "outputs": [],
   "source": [
    "# i want to get the name of lubna in the output....?"
   ]
  },
  {
   "cell_type": "code",
   "execution_count": 41,
   "id": "0d8977b8-29ad-4934-a811-0063cdc628d2",
   "metadata": {},
   "outputs": [
    {
     "name": "stdout",
     "output_type": "stream",
     "text": [
      "Lubna\n"
     ]
    }
   ],
   "source": [
    "print(students[0].title())"
   ]
  },
  {
   "cell_type": "code",
   "execution_count": 25,
   "id": "b7036b70-89b4-4557-b78f-6f8b8bd1720f",
   "metadata": {},
   "outputs": [],
   "source": [
    "# i want to get the name of naveena in the op?"
   ]
  },
  {
   "cell_type": "code",
   "execution_count": 43,
   "id": "f3334149-2a81-44f7-98db-4583f43ff622",
   "metadata": {},
   "outputs": [
    {
     "name": "stdout",
     "output_type": "stream",
     "text": [
      "Naveena\n"
     ]
    }
   ],
   "source": [
    "print(students[2].title())"
   ]
  },
  {
   "cell_type": "code",
   "execution_count": null,
   "id": "c50b7777-4c42-4bf5-aeea-d85fd7a231ca",
   "metadata": {},
   "outputs": [],
   "source": [
    "1. how to add new elements to the list datatype ========>completed\n",
    "2. how to modify the elements in the list datatype ======>completed\n",
    "3. how to delete the elements in the list datatype ======>completed"
   ]
  },
  {
   "cell_type": "code",
   "execution_count": null,
   "id": "c32f6798-ee4b-465e-b892-2f00e2f58443",
   "metadata": {},
   "outputs": [],
   "source": []
  },
  {
   "cell_type": "code",
   "execution_count": 47,
   "id": "f1510115-6c93-4209-9eee-fe0d3348f596",
   "metadata": {},
   "outputs": [],
   "source": [
    "# req : i want to add tazeen to the above list...?"
   ]
  },
  {
   "cell_type": "code",
   "execution_count": null,
   "id": "6208b902-8f31-47c8-81f2-5a07f7eb1c8e",
   "metadata": {},
   "outputs": [],
   "source": [
    "students.append('tazeen')"
   ]
  },
  {
   "cell_type": "code",
   "execution_count": 49,
   "id": "857e0c9c-e6ef-4644-9406-af0b97266860",
   "metadata": {},
   "outputs": [
    {
     "name": "stdout",
     "output_type": "stream",
     "text": [
      "['lubna', 'ayesha', 'naveena', 'arvind', 'sohail', 'john', 'tazeen']\n"
     ]
    }
   ],
   "source": [
    "print(students)"
   ]
  },
  {
   "cell_type": "code",
   "execution_count": 51,
   "id": "45074cd6-da5d-4346-a6d5-b78355a5f73d",
   "metadata": {},
   "outputs": [],
   "source": [
    "# req : i want to add david to the above list...?"
   ]
  },
  {
   "cell_type": "code",
   "execution_count": 55,
   "id": "1c93098c-247d-4de9-8b3a-92f99dbbe543",
   "metadata": {},
   "outputs": [],
   "source": [
    "students.append('david')"
   ]
  },
  {
   "cell_type": "code",
   "execution_count": 57,
   "id": "26383409-7bc5-4eff-afce-861975f0dcf8",
   "metadata": {},
   "outputs": [
    {
     "name": "stdout",
     "output_type": "stream",
     "text": [
      "['lubna', 'ayesha', 'naveena', 'arvind', 'sohail', 'john', 'tazeen', 'david']\n"
     ]
    }
   ],
   "source": [
    "print(students)"
   ]
  },
  {
   "cell_type": "code",
   "execution_count": 59,
   "id": "8ca3c832-9448-462c-ae48-ae4bbfed8a60",
   "metadata": {},
   "outputs": [],
   "source": [
    "# req : i want to add poojitha name in the second index."
   ]
  },
  {
   "cell_type": "code",
   "execution_count": 61,
   "id": "c4e6a1ff-5fef-4c8b-92c9-f60e101b00d5",
   "metadata": {},
   "outputs": [],
   "source": [
    "students.insert(2,'poojitha')"
   ]
  },
  {
   "cell_type": "code",
   "execution_count": 63,
   "id": "1c346412-d999-4761-9365-24564f50af16",
   "metadata": {},
   "outputs": [
    {
     "name": "stdout",
     "output_type": "stream",
     "text": [
      "['lubna', 'ayesha', 'poojitha', 'naveena', 'arvind', 'sohail', 'john', 'tazeen', 'david']\n"
     ]
    }
   ],
   "source": [
    "print(students)"
   ]
  },
  {
   "cell_type": "code",
   "execution_count": 65,
   "id": "a4138af8-656b-4101-8eae-6e7303636f56",
   "metadata": {},
   "outputs": [
    {
     "name": "stdout",
     "output_type": "stream",
     "text": [
      "Poojitha\n"
     ]
    }
   ],
   "source": [
    "print(students[2].title())"
   ]
  },
  {
   "cell_type": "code",
   "execution_count": null,
   "id": "29922363-066d-49e1-a8ea-c005e076d21d",
   "metadata": {},
   "outputs": [],
   "source": [
    "interview_question : what is the difference between append method and insert method in a list, pls explain....?"
   ]
  },
  {
   "cell_type": "code",
   "execution_count": null,
   "id": "d68b3a4a-b2e2-49f4-8583-8b8b11c387ba",
   "metadata": {},
   "outputs": [],
   "source": [
    "how to modify the element in the list datatype....."
   ]
  },
  {
   "cell_type": "code",
   "execution_count": 67,
   "id": "38fad49d-a82d-4cc6-8503-88c17e97f828",
   "metadata": {},
   "outputs": [
    {
     "name": "stdout",
     "output_type": "stream",
     "text": [
      "['lubna', 'ayesha', 'poojitha', 'naveena', 'arvind', 'sohail', 'john', 'tazeen', 'david']\n"
     ]
    }
   ],
   "source": [
    "print(students)"
   ]
  },
  {
   "cell_type": "code",
   "execution_count": 69,
   "id": "d02b7332-79df-4281-8baf-1012556c0f8d",
   "metadata": {},
   "outputs": [],
   "source": [
    "# req : i want to modify poojitha name ramya "
   ]
  },
  {
   "cell_type": "code",
   "execution_count": 79,
   "id": "ceb9841c-698a-4e48-abf9-e7bc95ffb127",
   "metadata": {},
   "outputs": [],
   "source": [
    "students[2] = 'ramya'"
   ]
  },
  {
   "cell_type": "code",
   "execution_count": 81,
   "id": "abb5d2a9-1277-42e1-a708-6776e7a863b3",
   "metadata": {},
   "outputs": [
    {
     "name": "stdout",
     "output_type": "stream",
     "text": [
      "['lubna', 'ayesha', 'ramya', 'naveena', 'arvind', 'sohail', 'john', 'tazeen', 'david']\n"
     ]
    }
   ],
   "source": [
    "print(students)"
   ]
  },
  {
   "cell_type": "code",
   "execution_count": null,
   "id": "da695906-c690-45ee-920e-f41ea7167d28",
   "metadata": {},
   "outputs": [],
   "source": [
    "# deleting the elements :\n",
    "\n",
    " 1. temp deleting\n",
    "\n",
    " 2. permanent deleting"
   ]
  },
  {
   "cell_type": "code",
   "execution_count": null,
   "id": "ca24d8eb-6c39-4916-b06f-965f6fb9dde9",
   "metadata": {},
   "outputs": [],
   "source": []
  },
  {
   "cell_type": "code",
   "execution_count": 85,
   "id": "cae6dc4c-422a-4af1-8370-17bb224248b0",
   "metadata": {},
   "outputs": [
    {
     "name": "stdout",
     "output_type": "stream",
     "text": [
      "['lubna', 'ayesha', 'ramya', 'naveena', 'arvind', 'sohail', 'john', 'tazeen', 'david']\n"
     ]
    }
   ],
   "source": [
    "print(students)"
   ]
  },
  {
   "cell_type": "code",
   "execution_count": null,
   "id": "63935f28-1e5d-4ded-9420-a744689107b6",
   "metadata": {},
   "outputs": [],
   "source": [
    "# i want to delete lubna name : pop\n",
    "\n",
    "note : pop by defualt will be deltint the last element in the list and it will be creating a carbon copy of the deleted item \\\n",
    "      with the variable thst has been assigned to it."
   ]
  },
  {
   "cell_type": "code",
   "execution_count": 93,
   "id": "7adf870c-a07f-4519-b764-97a8840803d1",
   "metadata": {},
   "outputs": [],
   "source": [
    "x = students.pop()"
   ]
  },
  {
   "cell_type": "code",
   "execution_count": 95,
   "id": "dd32e785-2621-4c05-b123-3b28b6827db4",
   "metadata": {},
   "outputs": [
    {
     "name": "stdout",
     "output_type": "stream",
     "text": [
      "['lubna', 'ayesha', 'ramya', 'naveena', 'arvind', 'sohail', 'john', 'tazeen']\n"
     ]
    }
   ],
   "source": [
    "print(students)"
   ]
  },
  {
   "cell_type": "code",
   "execution_count": 97,
   "id": "accd35dd-f286-46ab-bbf6-7e201bb26561",
   "metadata": {},
   "outputs": [
    {
     "name": "stdout",
     "output_type": "stream",
     "text": [
      "david\n"
     ]
    }
   ],
   "source": [
    "print(x)"
   ]
  },
  {
   "cell_type": "code",
   "execution_count": 103,
   "id": "c8ca2dc8-362a-477c-a9d7-9f452d13f20c",
   "metadata": {},
   "outputs": [],
   "source": [
    "y = students.pop(0)"
   ]
  },
  {
   "cell_type": "code",
   "execution_count": 105,
   "id": "c4ac16d2-359f-43be-a8e0-d458998235f8",
   "metadata": {},
   "outputs": [
    {
     "name": "stdout",
     "output_type": "stream",
     "text": [
      "['ayesha', 'ramya', 'naveena', 'arvind', 'sohail', 'john', 'tazeen']\n"
     ]
    }
   ],
   "source": [
    "print(students)"
   ]
  },
  {
   "cell_type": "code",
   "execution_count": 181,
   "id": "724c6753-906b-4cc2-af43-aa726713cc93",
   "metadata": {},
   "outputs": [],
   "source": [
    "# req : i want to delete aravind name in the above.............?"
   ]
  },
  {
   "cell_type": "code",
   "execution_count": null,
   "id": "0554b1e4-e92b-49fc-8bf3-9bf1a6ce750c",
   "metadata": {},
   "outputs": [],
   "source": [
    "del student[3]"
   ]
  },
  {
   "cell_type": "code",
   "execution_count": 199,
   "id": "ef80ad65-8661-4ad4-a77c-5656db728988",
   "metadata": {},
   "outputs": [
    {
     "name": "stdout",
     "output_type": "stream",
     "text": [
      "['ayesha', 'ramya', 'naveena']\n"
     ]
    }
   ],
   "source": [
    "print(students)"
   ]
  },
  {
   "cell_type": "code",
   "execution_count": null,
   "id": "fcb251d8-9279-438d-8254-7f4addc6a56b",
   "metadata": {},
   "outputs": [],
   "source": [
    "interview_question : wht is the diff btw pop and delete mathod from the list datatype?? **"
   ]
  },
  {
   "cell_type": "code",
   "execution_count": null,
   "id": "16572745-6561-4641-9d36-4feceb9f6099",
   "metadata": {},
   "outputs": [],
   "source": []
  }
 ],
 "metadata": {
  "kernelspec": {
   "display_name": "Python [conda env:base] *",
   "language": "python",
   "name": "conda-base-py"
  },
  "language_info": {
   "codemirror_mode": {
    "name": "ipython",
    "version": 3
   },
   "file_extension": ".py",
   "mimetype": "text/x-python",
   "name": "python",
   "nbconvert_exporter": "python",
   "pygments_lexer": "ipython3",
   "version": "3.12.7"
  }
 },
 "nbformat": 4,
 "nbformat_minor": 5
}
