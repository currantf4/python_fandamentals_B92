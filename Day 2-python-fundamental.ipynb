{
 "cells": [
  {
   "cell_type": "code",
   "execution_count": null,
   "id": "906e04c2-12ea-4647-8c29-45238dbf8eb1",
   "metadata": {},
   "outputs": [],
   "source": [
    "inroducing to python fundamentals :"
   ]
  },
  {
   "cell_type": "code",
   "execution_count": null,
   "id": "8279b665-4c98-45b3-9355-475d8bf34d85",
   "metadata": {},
   "outputs": [],
   "source": []
  },
  {
   "cell_type": "code",
   "execution_count": null,
   "id": "4f97ee08-243f-4c7d-be4a-e1d3dbb00020",
   "metadata": {},
   "outputs": [],
   "source": [
    "understanding the variable in python :"
   ]
  },
  {
   "cell_type": "code",
   "execution_count": null,
   "id": "fbe9cd19-0837-4f78-b333-f3c48f587dbe",
   "metadata": {},
   "outputs": [],
   "source": [
    "x = 2\n",
    "y = 3"
   ]
  },
  {
   "cell_type": "code",
   "execution_count": 41,
   "id": "472fb183-fef4-4dce-a903-09b00026a770",
   "metadata": {},
   "outputs": [
    {
     "name": "stdout",
     "output_type": "stream",
     "text": [
      "5\n"
     ]
    }
   ],
   "source": [
    "z = x+y\n",
    "\n",
    "print(z)"
   ]
  },
  {
   "cell_type": "raw",
   "id": "33c23ec0-9988-469c-a4c7-207f2071504b",
   "metadata": {},
   "source": [
    "rules for deciraring the variable :"
   ]
  },
  {
   "cell_type": "code",
   "execution_count": null,
   "id": "7da4af95-b2e7-4710-bb03-ed89c7f326d1",
   "metadata": {},
   "outputs": [],
   "source": [
    "rules no 1 : No namespace while declaring the variable "
   ]
  },
  {
   "cell_type": "code",
   "execution_count": 43,
   "id": "0d192b1e-89d3-4948-a110-6d5f7341b270",
   "metadata": {},
   "outputs": [
    {
     "ename": "SyntaxError",
     "evalue": "invalid syntax (759845678.py, line 1)",
     "output_type": "error",
     "traceback": [
      "\u001b[1;36m  Cell \u001b[1;32mIn[43], line 1\u001b[1;36m\u001b[0m\n\u001b[1;33m    first name = 'saima'\u001b[0m\n\u001b[1;37m          ^\u001b[0m\n\u001b[1;31mSyntaxError\u001b[0m\u001b[1;31m:\u001b[0m invalid syntax\n"
     ]
    }
   ],
   "source": [
    "first name = 'saima'\n",
    "\n",
    "print(first name)"
   ]
  },
  {
   "cell_type": "code",
   "execution_count": 45,
   "id": "23891182-be2b-4b8f-8c6f-868afd2dd75f",
   "metadata": {},
   "outputs": [
    {
     "name": "stdout",
     "output_type": "stream",
     "text": [
      "saima\n"
     ]
    }
   ],
   "source": [
    "firstname = 'saima'\n",
    "\n",
    "print(firstname)"
   ]
  },
  {
   "cell_type": "code",
   "execution_count": 47,
   "id": "5e197ed9-6a36-4a4e-afb8-fb826576bd17",
   "metadata": {},
   "outputs": [
    {
     "name": "stdout",
     "output_type": "stream",
     "text": [
      "saima\n"
     ]
    }
   ],
   "source": [
    "first_name = 'saima'\n",
    "\n",
    "print(first_name)"
   ]
  },
  {
   "cell_type": "code",
   "execution_count": null,
   "id": "eeba14d3-aae5-4613-aa24-7c6d4021c41e",
   "metadata": {},
   "outputs": [],
   "source": [
    "rules no 2 : A variable name should not start with a number **"
   ]
  },
  {
   "cell_type": "code",
   "execution_count": 49,
   "id": "d3eb9766-d7d4-48aa-89de-558a5bd60972",
   "metadata": {},
   "outputs": [
    {
     "ename": "SyntaxError",
     "evalue": "invalid decimal literal (3585029087.py, line 1)",
     "output_type": "error",
     "traceback": [
      "\u001b[1;36m  Cell \u001b[1;32mIn[49], line 1\u001b[1;36m\u001b[0m\n\u001b[1;33m    1name = 'turshar'\u001b[0m\n\u001b[1;37m    ^\u001b[0m\n\u001b[1;31mSyntaxError\u001b[0m\u001b[1;31m:\u001b[0m invalid decimal literal\n"
     ]
    }
   ],
   "source": [
    "1name = 'turshar'\n",
    "\n",
    "print(1name)"
   ]
  },
  {
   "cell_type": "code",
   "execution_count": 53,
   "id": "19d2b863-3d68-475c-a4ca-e09a972e40cb",
   "metadata": {},
   "outputs": [
    {
     "name": "stdout",
     "output_type": "stream",
     "text": [
      "tushar\n"
     ]
    }
   ],
   "source": [
    "name1 = 'tushar'\n",
    "\n",
    "print(name1)"
   ]
  },
  {
   "cell_type": "raw",
   "id": "1e191c29-a897-434d-b6d8-b71900bd8adf",
   "metadata": {},
   "source": [
    "rule no 3 : A variable name should not contain any spical characters\n",
    "\n",
    "@ # $ ^ &"
   ]
  },
  {
   "cell_type": "code",
   "execution_count": 55,
   "id": "96134f03-490f-4d4f-9734-39c929ebb089",
   "metadata": {},
   "outputs": [
    {
     "ename": "SyntaxError",
     "evalue": "invalid syntax (2832580255.py, line 1)",
     "output_type": "error",
     "traceback": [
      "\u001b[1;36m  Cell \u001b[1;32mIn[55], line 1\u001b[1;36m\u001b[0m\n\u001b[1;33m    name@ = 'santosh'\u001b[0m\n\u001b[1;37m          ^\u001b[0m\n\u001b[1;31mSyntaxError\u001b[0m\u001b[1;31m:\u001b[0m invalid syntax\n"
     ]
    }
   ],
   "source": [
    "name@ = 'santosh'\n",
    "\n",
    "print(name)"
   ]
  },
  {
   "cell_type": "code",
   "execution_count": null,
   "id": "0f1a4483-6778-4450-b11c-c6585911e914",
   "metadata": {},
   "outputs": [],
   "source": [
    "introduction to datatypes :\n",
    "\n",
    "1. strings =====> str\n",
    "\n",
    "2. numbers =====> integers ----> int and float ( decimals) ----> 0.1,0.2 ====> float\n",
    "\n",
    "3. lists ===> list\n",
    "\n",
    "4. tuples ====> tuple\n",
    "\n",
    "5. dictionary ====> dict"
   ]
  },
  {
   "cell_type": "code",
   "execution_count": null,
   "id": "7d1b3c8a-d97b-44a4-944b-b05a8ce377e3",
   "metadata": {},
   "outputs": [],
   "source": [
    "classification of datatypes :\n",
    "\n",
    "broadly datatypes are classified in to two categeroeis :\n",
    "\n",
    "1. mutable datatypes ===> these are flaxible in nature ===> which we can edit and alter \n",
    "\n",
    "2. immutable datatpyes ===> these are flaxed in nature ====> which we cannot be able to edite and alter"
   ]
  },
  {
   "cell_type": "code",
   "execution_count": null,
   "id": "4a60f216-e2fb-428f-bf14-efb77ab913fb",
   "metadata": {},
   "outputs": [],
   "source": []
  },
  {
   "cell_type": "code",
   "execution_count": null,
   "id": "8b17490d-b1db-444b-8820-db79810daa1b",
   "metadata": {},
   "outputs": [],
   "source": [
    "introduction to string datatypes : \n",
    "\n",
    "defination  : A string is a series of characters declared in quotes.\n",
    "\n",
    "classification : It is classified as an immutable datatype\n",
    "\n",
    "how to declare the string ......? \n",
    "\n",
    "approaches : \n",
    "\n",
    "     1. single quote\n",
    "\n",
    "     2.double quote"
   ]
  },
  {
   "cell_type": "code",
   "execution_count": 57,
   "id": "9b2bddc5-674e-4648-b745-660830d31285",
   "metadata": {},
   "outputs": [
    {
     "name": "stdout",
     "output_type": "stream",
     "text": [
      "sekhar\n"
     ]
    }
   ],
   "source": [
    "firstname = 'sekhar'\n",
    "\n",
    "print(firstname)"
   ]
  },
  {
   "cell_type": "code",
   "execution_count": 66,
   "id": "6b2e2f71-c7f6-4e9b-9d74-1b88a033674e",
   "metadata": {},
   "outputs": [
    {
     "name": "stdout",
     "output_type": "stream",
     "text": [
      "saima\n"
     ]
    }
   ],
   "source": [
    "name = \"saima\"\n",
    "\n",
    "print(name)"
   ]
  },
  {
   "cell_type": "code",
   "execution_count": null,
   "id": "4b497a69-2677-4f37-b204-82dcd207a052",
   "metadata": {},
   "outputs": [],
   "source": [
    "interoduction to methods :"
   ]
  },
  {
   "cell_type": "code",
   "execution_count": 76,
   "id": "879eb4ba-a8f1-4c1e-98d4-f9a87e4a8285",
   "metadata": {},
   "outputs": [
    {
     "data": {
      "text/plain": [
       "str"
      ]
     },
     "execution_count": 76,
     "metadata": {},
     "output_type": "execute_result"
    }
   ],
   "source": [
    "type(firstname)"
   ]
  },
  {
   "cell_type": "code",
   "execution_count": null,
   "id": "d87e7fba-e5d7-4647-bcbf-abdb3d81a833",
   "metadata": {},
   "outputs": [],
   "source": [
    "Not : 1 python is a case senstive langauge"
   ]
  },
  {
   "cell_type": "code",
   "execution_count": null,
   "id": "7e4fb13f-b51b-4f4e-81e2-afa620d2599c",
   "metadata": {},
   "outputs": [],
   "source": [
    "# is use to comment the code."
   ]
  },
  {
   "cell_type": "code",
   "execution_count": null,
   "id": "fdd264fc-0656-4b2e-bc44-9a58378c77fb",
   "metadata": {},
   "outputs": [],
   "source": []
  },
  {
   "cell_type": "code",
   "execution_count": 78,
   "id": "7321d663-b5fd-4f42-aae0-a3c125d81d02",
   "metadata": {},
   "outputs": [
    {
     "name": "stdout",
     "output_type": "stream",
     "text": [
      "durga prasad\n"
     ]
    }
   ],
   "source": [
    "fullname = 'durga prasad'\n",
    "\n",
    "print(fullname)"
   ]
  },
  {
   "cell_type": "code",
   "execution_count": 80,
   "id": "9d8c79d4-1ac7-4af8-8060-cecbad0c4a75",
   "metadata": {},
   "outputs": [
    {
     "name": "stdout",
     "output_type": "stream",
     "text": [
      "Durga Prasad\n"
     ]
    }
   ],
   "source": [
    "print(fullname.title())"
   ]
  },
  {
   "cell_type": "code",
   "execution_count": null,
   "id": "9a5cb5cd-5e24-454e-8b9c-b50a38dbf9bd",
   "metadata": {},
   "outputs": [],
   "source": [
    "# req: i want the entire name in capital letters."
   ]
  },
  {
   "cell_type": "code",
   "execution_count": 82,
   "id": "7ec6c59a-d3bd-49bf-b257-41f08f4e2b4a",
   "metadata": {},
   "outputs": [
    {
     "name": "stdout",
     "output_type": "stream",
     "text": [
      "DURGA PRASAD\n"
     ]
    }
   ],
   "source": [
    "print(fullname.upper())"
   ]
  },
  {
   "cell_type": "code",
   "execution_count": null,
   "id": "7dd70b88-8096-4157-963a-8cc8b7ca0cd6",
   "metadata": {},
   "outputs": [],
   "source": [
    "# req: i want the entire name in small letters."
   ]
  },
  {
   "cell_type": "code",
   "execution_count": 84,
   "id": "25103f01-dfb1-4233-b717-8bd35153d16d",
   "metadata": {},
   "outputs": [
    {
     "name": "stdout",
     "output_type": "stream",
     "text": [
      "durga prasad\n"
     ]
    }
   ],
   "source": [
    "print(fullname.lower())"
   ]
  },
  {
   "cell_type": "code",
   "execution_count": null,
   "id": "1ff7f5a9-de8b-4c64-ab2a-6843c4fd7aaa",
   "metadata": {},
   "outputs": [],
   "source": []
  },
  {
   "cell_type": "code",
   "execution_count": null,
   "id": "19196337-ac7b-4a2e-bf32-1e243f33299c",
   "metadata": {},
   "outputs": [],
   "source": []
  },
  {
   "cell_type": "code",
   "execution_count": null,
   "id": "b49f469b-7a14-450d-84ba-ce66c9ef27a1",
   "metadata": {},
   "outputs": [],
   "source": []
  },
  {
   "cell_type": "code",
   "execution_count": null,
   "id": "a402f4cf-cfef-461c-a5d7-5cdf75f77b08",
   "metadata": {},
   "outputs": [],
   "source": []
  },
  {
   "cell_type": "code",
   "execution_count": null,
   "id": "06624a09-e36c-4514-88f6-2338c446acaa",
   "metadata": {},
   "outputs": [],
   "source": []
  },
  {
   "cell_type": "code",
   "execution_count": null,
   "id": "33d263bc-21c3-4b72-a334-cafec0a66856",
   "metadata": {},
   "outputs": [],
   "source": []
  }
 ],
 "metadata": {
  "kernelspec": {
   "display_name": "Python [conda env:base] *",
   "language": "python",
   "name": "conda-base-py"
  },
  "language_info": {
   "codemirror_mode": {
    "name": "ipython",
    "version": 3
   },
   "file_extension": ".py",
   "mimetype": "text/x-python",
   "name": "python",
   "nbconvert_exporter": "python",
   "pygments_lexer": "ipython3",
   "version": "3.12.7"
  }
 },
 "nbformat": 4,
 "nbformat_minor": 5
}
